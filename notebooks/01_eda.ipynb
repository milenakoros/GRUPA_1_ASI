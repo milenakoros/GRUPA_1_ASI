{
  "cells": [
    {
      "cell_type": "markdown",
      "source": [
        "# Used Car Price Prediction\n",
        "\n",
        "This dataset contains 7,400 used car listings from India with 29 features, including car specifications, pricing details, ownership history, and availability."
      ],
      "metadata": {
        "id": "FaYuTFPCw5GW"
      },
      "id": "FaYuTFPCw5GW"
    },
    {
      "cell_type": "markdown",
      "source": [
        "## 1. Załadowanie danych i wstępna analiza"
      ],
      "metadata": {
        "id": "w9xw5y-r0Hxt"
      },
      "id": "w9xw5y-r0Hxt"
    },
    {
      "cell_type": "code",
      "source": [
        "import pandas as pd\n",
        "import seaborn as sns\n",
        "import matplotlib.pyplot as plt\n",
        "import numpy as np\n",
        "df = pd.read_csv(r'../data/Used_Car_Price_Prediction.csv')\n",
        "df.sample(5)"
      ],
      "metadata": {
        "id": "96aUWJBsw4Wu"
      },
      "id": "96aUWJBsw4Wu",
      "execution_count": null,
      "outputs": []
    },
    {
      "cell_type": "code",
      "source": [
        "df.info()"
      ],
      "metadata": {
        "id": "sLVUlTFMzaYq"
      },
      "id": "sLVUlTFMzaYq",
      "execution_count": null,
      "outputs": []
    },
    {
      "cell_type": "code",
      "source": [
        "df.describe()"
      ],
      "metadata": {
        "id": "3a6Awm-rzcqh"
      },
      "id": "3a6Awm-rzcqh",
      "execution_count": null,
      "outputs": []
    },
    {
      "cell_type": "markdown",
      "source": [
        "## 2. Czyszczenie danych"
      ],
      "metadata": {
        "id": "wsj212mYzta1"
      },
      "id": "wsj212mYzta1"
    },
    {
      "cell_type": "markdown",
      "source": [
        "### 2.1 Sprawdzenie brakujących wartości"
      ],
      "metadata": {
        "id": "7kej-wXu0zcl"
      },
      "id": "7kej-wXu0zcl"
    },
    {
      "cell_type": "code",
      "source": [
        "df.columns[df.isnull().any()]"
      ],
      "metadata": {
        "id": "gdUWAtjjzeSb"
      },
      "id": "gdUWAtjjzeSb",
      "execution_count": null,
      "outputs": []
    },
    {
      "cell_type": "markdown",
      "source": [
        "## 3. EDA"
      ],
      "metadata": {
        "id": "8HEOOfIx0R4N"
      },
      "id": "8HEOOfIx0R4N"
    },
    {
      "cell_type": "markdown",
      "source": [
        "### 3.1 Macierz korelacji"
      ],
      "metadata": {
        "id": "AQflhaOv028U"
      },
      "id": "AQflhaOv028U"
    },
    {
      "cell_type": "code",
      "source": [
        "correlation_matrix = df.corr()\n",
        "X = df[df.columns[:-1]]\n",
        "y = df[df.columns[-1]]\n",
        "\n",
        "plt.figure(figsize=(50,50))\n",
        "sns.heatmap(correlation_matrix, annot=True, cmap='coolwarm', cbar=False)\n",
        "plt.show()"
      ],
      "metadata": {
        "id": "JViqBM0r0eiN"
      },
      "id": "JViqBM0r0eiN",
      "execution_count": null,
      "outputs": []
    },
    {
      "cell_type": "code",
      "source": [
        "def get_column_boxplot(column_name):\n",
        "  plt.figure(figsize=(10, 6))\n",
        "  plt.boxplot(df[column_name].dropna())\n",
        "  plt.title(f'Boxplot of {column_name}')\n",
        "  plt.ylabel(column_name)\n",
        "  plt.show()"
      ],
      "metadata": {
        "id": "Ia4YuEeoyS-N"
      },
      "id": "Ia4YuEeoyS-N",
      "execution_count": null,
      "outputs": []
    }
  ],
  "metadata": {
    "language_info": {
      "name": "python"
    },
    "colab": {
      "provenance": [],
      "toc_visible": true
    },
    "kernelspec": {
      "name": "python3",
      "display_name": "Python 3"
    }
  },
  "nbformat": 4,
  "nbformat_minor": 5
}